{
 "cells": [
  {
   "cell_type": "code",
   "execution_count": null,
   "metadata": {},
   "outputs": [],
   "source": [
    "import requests"
   ]
  },
  {
   "cell_type": "code",
   "execution_count": null,
   "metadata": {},
   "outputs": [],
   "source": [
    "username = \"\"\n",
    "password = \"\"\n",
    "with requests.Session() as s:\n",
    "  recreations_page = s.get(\"https://recreation.utoronto.ca/\")\n",
    "  verification_token = recreations_page.text.split('<input name=\"__RequestVerificationToken\" type=\"hidden\" value=\"')[1].split('\"')[0]\n",
    "  login = s.post(\"https://recreation.utoronto.ca/account/signin\", data={\"Username\": username, \"Password\": password, \"__RequestVerificationToken\": verification_token, \"Redirect\": None})\n"
   ]
  },
  {
   "cell_type": "code",
   "execution_count": null,
   "metadata": {},
   "outputs": [],
   "source": [
    "print(login.headers['Set-Cookie'].split(';')[0].split('.AspNet.ApplicationCookie=')[1])"
   ]
  }
 ],
 "metadata": {
  "kernelspec": {
   "display_name": ".venv",
   "language": "python",
   "name": "python3"
  },
  "language_info": {
   "codemirror_mode": {
    "name": "ipython",
    "version": 3
   },
   "file_extension": ".py",
   "mimetype": "text/x-python",
   "name": "python",
   "nbconvert_exporter": "python",
   "pygments_lexer": "ipython3",
   "version": "3.10.0"
  }
 },
 "nbformat": 4,
 "nbformat_minor": 2
}
